{
 "cells": [
  {
   "cell_type": "markdown",
   "metadata": {
    "collapsed": true
   },
   "source": [
    "Inteligência na Web e Big Data - 2018 - UFABC\n",
    "\n",
    "Implementação do algoritmo Apriori em PySpark\n",
    "\n",
    "Pedro Henrique Parreira\n",
    "\n",
    "Base de dados utilizada, arquivo order_products__prior.csv em  <a href=\"https://www.kaggle.com/c/instacart-market-basket-analysis/data\">Competição Instacart Market Basket Analysis, Kaggle</a>\n",
    "\n",
    "Versão não distribuída.\n",
    "\n"
   ]
  },
  {
   "cell_type": "code",
   "execution_count": 1,
   "metadata": {},
   "outputs": [
    {
     "name": "stdout",
     "output_type": "stream",
     "text": [
      "['order_id,product_id,add_to_cart_order,reordered', '2,33120,1,1']\nWall time: 12.7 s\n"
     ]
    }
   ],
   "source": [
    "%%time\n",
    "\n",
    "from pyspark   import SparkContext,SparkConf\n",
    "import os.path\n",
    "\n",
    "fileName = os.path.join(os.getcwd(),\"Base.csv\")\n",
    "\n",
    "#Distribuído para 1 thread.\n",
    "conf = SparkConf().setMaster(\"local[1]\")\n",
    "sc = SparkContext(conf=conf)\n",
    "\n",
    "#Carregar arquivo\n",
    "arquivo     = sc.textFile(fileName, 1)\n",
    "print(arquivo.take(2))\n",
    "\n"
   ]
  },
  {
   "cell_type": "markdown",
   "metadata": {},
   "source": [
    "O arquivo original contém em cada linha um item de cada transação, logo é feita uma transformação para reunir todos os tens da mesma transação em uma tupla.\n"
   ]
  },
  {
   "cell_type": "code",
   "execution_count": 2,
   "metadata": {
    "collapsed": true
   },
   "outputs": [
    {
     "name": "stdout",
     "output_type": "stream",
     "text": [
      "Transações totais: 3214875\n"
     ]
    },
    {
     "name": "stdout",
     "output_type": "stream",
     "text": [
      "[('23909', '22754', '24852', '28993', '41273', '23341', '46941', '39993', '19068', '21410', '17341', '40593', '46979', '31268')]\nWall time: 4min 15s\n"
     ]
    }
   ],
   "source": [
    "%%time\n",
    "\n",
    "#Formatando as entradas do arquivo.\n",
    "base    = arquivo.map(lambda x: list(str(x).strip().rstrip(',').split(',')))\\\n",
    "                 .map(lambda x: (x[0], x[1]))\\\n",
    "                 .groupByKey().map(lambda x : tuple(x[1]))\n",
    "\n",
    "numeroTransacoes = base.count()\n",
    "print(\"Transações totais: \" + str(base.count()))\n",
    "print(base.take(1))"
   ]
  },
  {
   "cell_type": "markdown",
   "metadata": {},
   "source": [
    "Definição das funções que gera os itemsets e que verifica se o suporte dos itemsets gerados é maior que o definido pelo usuário.\n"
   ]
  },
  {
   "cell_type": "code",
   "execution_count": 3,
   "metadata": {},
   "outputs": [
    {
     "name": "stdout",
     "output_type": "stream",
     "text": [
      "Wall time: 0 ns\n"
     ]
    }
   ],
   "source": [
    "%%time\n",
    "\n",
    "from itertools import combinations\n",
    "\n",
    "\n",
    "# Definindo função que irá gerar as combinações dos elementos\n",
    "# Ex: (A,B,C) para k = 2 => (A,B),(A,C),(B,C)\n",
    "def gerarCombinacoes(k, elementos):\n",
    "    x = list(combinations(elementos, k))\n",
    "    return ((tuple(x[i]), 1) for i in range(len(x)))\n",
    "\n",
    "# Definindo função recebe um RDD contendo os dados e retorna uma com os candidatos que\n",
    "# tiverem o suporte maior que o definido pelo usuário.\n",
    "def gerarCandidatos(k,rddDados,totalTransacao,suporteMinimo):\n",
    "    return  rddDados.flatMap(lambda x: gerarCombinacoes(k,x))\\\n",
    "                    .reduceByKey(lambda x, y: y + x) \\\n",
    "                    .map(lambda p: (p[0],round((p[1]/(totalTransacao*1.0)),6)))\\\n",
    "                    .filter(lambda xy: xy[1] >= suporteMinimo)\n"
   ]
  },
  {
   "cell_type": "markdown",
   "metadata": {},
   "source": [
    "Geração dos itemsets com o suporte maior que a definida pelo usuário, caso não seja gerado nenhum itemset de tamanho k o laço é encerrado.\n",
    "A cada novo k é feito a poda, ou seja, é deletado da base o item que não aparece como elemento dos itemsets."
   ]
  },
  {
   "cell_type": "code",
   "execution_count": 4,
   "metadata": {},
   "outputs": [
    {
     "name": "stdout",
     "output_type": "stream",
     "text": [
      "Iteração: 1\n"
     ]
    },
    {
     "name": "stdout",
     "output_type": "stream",
     "text": [
      "Número de candidatos aceitos:252\n"
     ]
    },
    {
     "name": "stdout",
     "output_type": "stream",
     "text": [
      "Iteração: 2\n"
     ]
    },
    {
     "name": "stdout",
     "output_type": "stream",
     "text": [
      "Número de candidatos aceitos:62\n"
     ]
    },
    {
     "name": "stdout",
     "output_type": "stream",
     "text": [
      "Iteração: 3\n"
     ]
    },
    {
     "name": "stdout",
     "output_type": "stream",
     "text": [
      "Candidatos totais: 314\nWall time: 8min 5s\n"
     ]
    }
   ],
   "source": [
    "%%time\n",
    "\n",
    "suporteMinimo   = 0.005\n",
    "confiancaMinimo = 0.01\n",
    "liftMinimo      = 1.50\n",
    "\n",
    "candidatosTotais  = sc.parallelize([],1)\n",
    "\n",
    "k = 1\n",
    "while(True):\n",
    "    print(\"Iteração: \" + str(k)) \t\n",
    "    \n",
    "    candidatos = gerarCandidatos(k, base, numeroTransacoes,suporteMinimo)\n",
    "    if(candidatos.count()>0):\n",
    "\t\t\t\n",
    "        print(\"Número de candidatos aceitos:\" + str(candidatos.count()))\n",
    "\t\t\t\n",
    "        elementos = candidatos.map(lambda x: x[0])\\\n",
    "                              .flatMap(lambda x: [(x[i]) for i in range(len(x))])\\\n",
    "                              .distinct().collect()\n",
    "\n",
    "        base = base.map(lambda x: list(set(x).intersection(elementos)))\\\n",
    "                   .filter(lambda x: len(x) > 0)\n",
    "\n",
    "        candidatosTotais = candidatosTotais.union(candidatos)\n",
    "        k=k+1\n",
    "    else:\n",
    "        break\n",
    "       \n",
    "print(\"Candidatos totais: \" + str(candidatosTotais.count()))"
   ]
  },
  {
   "cell_type": "markdown",
   "metadata": {},
   "source": [
    "É gerado as regras de associação fazendo o cálculo da confiança e lift."
   ]
  },
  {
   "cell_type": "code",
   "execution_count": 5,
   "metadata": {},
   "outputs": [
    {
     "name": "stdout",
     "output_type": "stream",
     "text": [
      "314\n"
     ]
    },
    {
     "name": "stdout",
     "output_type": "stream",
     "text": [
      "╒════════════╤════════════╤═════════════╤═════════╕\n│ De         │ Para       │   Confiança │    Lift │\n╞════════════╪════════════╪═════════════╪═════════╡\n│ ('40706',) │ ('13176',) │   0.197611  │ 1.67426 │\n├────────────┼────────────┼─────────────┼─────────┤\n│ ('45007',) │ ('13176',) │   0.215911  │ 1.82931 │\n├────────────┼────────────┼─────────────┼─────────┤\n│ ('30391',) │ ('13176',) │   0.267856  │ 2.26941 │\n├────────────┼────────────┼─────────────┼─────────┤\n│ ('30391',) │ ('47209',) │   0.206111  │ 3.10239 │\n├────────────┼────────────┼─────────────┼─────────┤\n│ ('28204',) │ ('24852',) │   0.353372  │ 2.404   │\n├────────────┼────────────┼─────────────┼─────────┤\n│ ('27845',) │ ('13176',) │   0.192023  │ 1.62691 │\n├────────────┼────────────┼─────────────┼─────────┤\n│ ('27845',) │ ('21137',) │   0.148032  │ 1.79802 │\n├────────────┼────────────┼─────────────┼─────────┤\n│ ('13176',) │ ('40706',) │   0.043879  │ 1.67426 │\n├────────────┼────────────┼─────────────┼─────────┤\n│ ('13176',) │ ('45007',) │   0.0596464 │ 1.82931 │\n├────────────┼────────────┼─────────────┼─────────┤\n│ ('13176',) │ ('30391',) │   0.0567488 │ 2.26941 │\n├────────────┼────────────┼─────────────┼─────────┤\n│ ('13176',) │ ('27845',) │   0.0697879 │ 1.62691 │\n├────────────┼────────────┼─────────────┼─────────┤\n│ ('13176',) │ ('22935',) │   0.0647637 │ 1.8356  │\n├────────────┼────────────┼─────────────┼─────────┤\n│ ('13176',) │ ('37646',) │   0.0499623 │ 2.20496 │\n├────────────┼────────────┼─────────────┼─────────┤\n│ ('13176',) │ ('24964',) │   0.0561811 │ 1.64527 │\n├────────────┼────────────┼─────────────┼─────────┤\n│ ('13176',) │ ('5876',)  │   0.0589855 │ 2.16112 │\n├────────────┼────────────┼─────────────┼─────────┤\n│ ('13176',) │ ('27966',) │   0.106745  │ 2.50387 │\n├────────────┼────────────┼─────────────┼─────────┤\n│ ('13176',) │ ('21137',) │   0.162418  │ 1.97274 │\n├────────────┼────────────┼─────────────┼─────────┤\n│ ('13176',) │ ('8277',)  │   0.0624508 │ 2.36144 │\n├────────────┼────────────┼─────────────┼─────────┤\n│ ('13176',) │ ('47209',) │   0.16429   │ 2.47291 │\n├────────────┼────────────┼─────────────┼─────────┤\n│ ('13176',) │ ('39275',) │   0.0576299 │ 1.85162 │\n├────────────┼────────────┼─────────────┼─────────┤\n│ ('13176',) │ ('21903',) │   0.132747  │ 1.76406 │\n├────────────┼────────────┼─────────────┼─────────┤\n│ ('13176',) │ ('19057',) │   0.0615696 │ 2.63343 │\n├────────────┼────────────┼─────────────┼─────────┤\n│ ('22935',) │ ('13176',) │   0.216654  │ 1.8356  │\n├────────────┼────────────┼─────────────┼─────────┤\n│ ('22935',) │ ('47209',) │   0.162774  │ 2.45009 │\n├────────────┼────────────┼─────────────┼─────────┤\n│ ('37646',) │ ('13176',) │   0.26025   │ 2.20496 │\n├────────────┼────────────┼─────────────┼─────────┤\n│ ('47626',) │ ('47766',) │   0.159945  │ 2.90815 │\n├────────────┼────────────┼─────────────┼─────────┤\n│ ('24964',) │ ('13176',) │   0.19419   │ 1.64527 │\n├────────────┼────────────┼─────────────┼─────────┤\n│ ('24964',) │ ('47209',) │   0.149266  │ 2.24677 │\n├────────────┼────────────┼─────────────┼─────────┤\n│ ('5876',)  │ ('13176',) │   0.255074  │ 2.16112 │\n├────────────┼────────────┼─────────────┼─────────┤\n│ ('27966',) │ ('13176',) │   0.295529  │ 2.50387 │\n├────────────┼────────────┼─────────────┼─────────┤\n│ ('27966',) │ ('21137',) │   0.211555  │ 2.56956 │\n├────────────┼────────────┼─────────────┼─────────┤\n│ ('27966',) │ ('47209',) │   0.187512  │ 2.82244 │\n├────────────┼────────────┼─────────────┼─────────┤\n│ ('24852',) │ ('28204',) │   0.0670236 │ 2.404   │\n├────────────┼────────────┼─────────────┼─────────┤\n│ ('24852',) │ ('4920',)  │   0.0470022 │ 1.82739 │\n├────────────┼────────────┼─────────────┼─────────┤\n│ ('21137',) │ ('27845',) │   0.0771277 │ 1.79802 │\n├────────────┼────────────┼─────────────┼─────────┤\n│ ('21137',) │ ('13176',) │   0.232841  │ 1.97274 │\n├────────────┼────────────┼─────────────┼─────────┤\n│ ('21137',) │ ('27966',) │   0.109546  │ 2.56956 │\n├────────────┼────────────┼─────────────┼─────────┤\n│ ('21137',) │ ('47209',) │   0.135587  │ 2.04086 │\n├────────────┼────────────┼─────────────┼─────────┤\n│ ('21137',) │ ('47766',) │   0.0900876 │ 1.63799 │\n├────────────┼────────────┼─────────────┼─────────┤\n│ ('21137',) │ ('21903',) │   0.138223  │ 1.83682 │\n├────────────┼────────────┼─────────────┼─────────┤\n│ ('8277',)  │ ('13176',) │   0.278719  │ 2.36144 │\n├────────────┼────────────┼─────────────┼─────────┤\n│ ('47209',) │ ('30391',) │   0.0775784 │ 3.10239 │\n├────────────┼────────────┼─────────────┼─────────┤\n│ ('47209',) │ ('13176',) │   0.291875  │ 2.47291 │\n├────────────┼────────────┼─────────────┼─────────┤\n│ ('47209',) │ ('22935',) │   0.0864441 │ 2.45009 │\n├────────────┼────────────┼─────────────┼─────────┤\n│ ('47209',) │ ('24964',) │   0.0767205 │ 2.24677 │\n├────────────┼────────────┼─────────────┼─────────┤\n│ ('47209',) │ ('27966',) │   0.120326  │ 2.82244 │\n├────────────┼────────────┼─────────────┼─────────┤\n│ ('47209',) │ ('21137',) │   0.168026  │ 2.04086 │\n├────────────┼────────────┼─────────────┼─────────┤\n│ ('47209',) │ ('26209',) │   0.0769161 │ 1.75836 │\n├────────────┼────────────┼─────────────┼─────────┤\n│ ('47209',) │ ('21903',) │   0.146969  │ 1.95304 │\n├────────────┼────────────┼─────────────┼─────────┤\n│ ('26209',) │ ('47209',) │   0.116819  │ 1.75836 │\n├────────────┼────────────┼─────────────┼─────────┤\n│ ('39275',) │ ('13176',) │   0.218545  │ 1.85162 │\n├────────────┼────────────┼─────────────┼─────────┤\n│ ('47766',) │ ('47626',) │   0.138093  │ 2.90815 │\n├────────────┼────────────┼─────────────┼─────────┤\n│ ('47766',) │ ('21137',) │   0.134857  │ 1.63799 │\n├────────────┼────────────┼─────────────┼─────────┤\n│ ('4920',)  │ ('24852',) │   0.268613  │ 1.82739 │\n├────────────┼────────────┼─────────────┼─────────┤\n│ ('21903',) │ ('13176',) │   0.20821   │ 1.76406 │\n├────────────┼────────────┼─────────────┼─────────┤\n│ ('21903',) │ ('21137',) │   0.151227  │ 1.83682 │\n├────────────┼────────────┼─────────────┼─────────┤\n│ ('21903',) │ ('47209',) │   0.129752  │ 1.95304 │\n├────────────┼────────────┼─────────────┼─────────┤\n│ ('19057',) │ ('13176',) │   0.310821  │ 2.63343 │\n╘════════════╧════════════╧═════════════╧═════════╛\nWall time: 2min 55s\n"
     ]
    }
   ],
   "source": [
    "%%time\n",
    "\n",
    "from tabulate  import tabulate\n",
    "print(candidatosTotais.count())\n",
    "#Base com o total de itemsets.\n",
    "candidatosTotais.cache()\n",
    "\n",
    "dicionario  = candidatosTotais.collectAsMap()\n",
    "\n",
    "candidatosTotais     = candidatosTotais.map(lambda x: x[0])\n",
    "elementos            = candidatosTotais.collect()\n",
    "\n",
    "associacoes = candidatosTotais.flatMap(lambda x: [(tuple(x), tuple(b)) for b in elementos])\\\n",
    "                              .filter(lambda x: any(t in x[0] for t in x[1]) == False)\\\n",
    "                              .map(lambda x: (x[0],x[1],tuple(sorted(set().union(x[0],x[1]))),0))\\\n",
    "                              .filter(lambda x: ( (x[2] in dicionario.keys()) ) == True)\\\n",
    "                              .map(lambda x: (x[0],x[1], \n",
    "                                        ((dicionario[x[2]])/(dicionario[x[0]]*1.0)),\n",
    "                                        ((dicionario[x[2]])/(dicionario[x[0]]*dicionario[x[1]]*1.0)) ))\\\n",
    "                              .filter(lambda x: x[2] > confiancaMinimo) \\\n",
    "                              .filter(lambda x: x[3] > liftMinimo).collect()\n",
    "\n",
    "\n",
    "resultado = tabulate(associacoes, headers=['De', 'Para','Confiança','Lift']\n",
    "                                 ,tablefmt=\"fancy_grid\")\n",
    "\n",
    "print(resultado)"
   ]
  },
  {
   "cell_type": "code",
   "execution_count": 6,
   "metadata": {},
   "outputs": [],
   "source": [
    ""
   ]
  },
  {
   "cell_type": "code",
   "execution_count": 6,
   "metadata": {},
   "outputs": [],
   "source": []
  },
  {
   "cell_type": "code",
   "execution_count": 6,
   "metadata": {},
   "outputs": [],
   "source": []
  },
  {
   "cell_type": "code",
   "execution_count": null,
   "metadata": {},
   "outputs": [],
   "source": []
  }
 ],
 "metadata": {
  "kernelspec": {
   "display_name": "Python 2",
   "language": "python",
   "name": "python2"
  },
  "language_info": {
   "codemirror_mode": {
    "name": "ipython",
    "version": 2
   },
   "file_extension": ".py",
   "mimetype": "text/x-python",
   "name": "python",
   "nbconvert_exporter": "python",
   "pygments_lexer": "ipython2",
   "version": "2.7.6"
  }
 },
 "nbformat": 4,
 "nbformat_minor": 0
}
