{
 "cells": [
  {
   "cell_type": "markdown",
   "metadata": {},
   "source": [
    "![CMCC](http://cmcc.ufabc.edu.br/images/logo_site.jpg)\n",
    "# **Spark + Python = PySpark**\n",
    "\n",
    "#### Esse notebook introduz os conceitos b�sicos do Spark atrav�s de sua interface com a linguagem Python. Como aplica��o inicial faremos o cl�ssico examplo de contador de palavras . Com esse exemplo � poss�vel entender a l�gica de programa��o funcional para as diversas tarefas de explora��o de dados distribu�dos.\n",
    "\n",
    "#### Para isso utilizaremos o livro texto [Trabalhos completos de William Shakespeare](http://www.gutenberg.org/ebooks/100) obtidos do  [Projeto Gutenberg](http://www.gutenberg.org/wiki/Main_Page).  Veremos que esse mesmo algoritmo pode ser empregado em textos de qualquer tamanho.\n",
    "\n",
    "#### ** Esse notebook cont�m:  **\n",
    "#### *Parte 1:* Criando uma base RDD e RDDs de tuplas\n",
    "#### *Parte 2:* Manipulando RDDs de tuplas\n",
    "#### *Parte 3:* Encontrando palavras �nicas e calculando m�dias\n",
    "#### *Parte 4:* Aplicar contagem de palavras em um arquivo\n",
    "#### *Parte 5:* Similaridade entre Objetos\n",
    "#### Para os exerc�cios � aconselh�vel consultar a documenta��o da [API do PySpark](https://spark.apache.org/docs/latest/api/python/pyspark.html#pyspark.RDD)"
   ]
  },
  {
   "cell_type": "markdown",
   "metadata": {},
   "source": [
    "### ** Part 1: Criando e Manipulando RDDs **"
   ]
  },
  {
   "cell_type": "markdown",
   "metadata": {},
   "source": [
    "#### Nessa parte do notebook vamos criar uma base RDD a partir de uma lista com o comando `parallelize`."
   ]
  },
  {
   "cell_type": "markdown",
   "metadata": {},
   "source": [
    "#### ** (1a) Criando uma base RDD **\n",
    "#### Podemos criar uma base RDD de diversos tipos e fonte do Python com o comando `sc.parallelize(fonte, particoes)`, sendo fonte uma vari�vel contendo os dados (ex.: uma lista) e particoes o n�mero de parti��es para trabalhar em paralelo."
   ]
  },
  {
   "cell_type": "code",
   "execution_count": null,
   "metadata": {
    "collapsed": true
   },
   "outputs": [],
   "source": [
    "ListaPalavras = ['gato', 'elefante', 'rato', 'rato', 'gato']\n",
    "palavrasRDD = sc.parallelize(ListaPalavras, 4)\n",
    "print(type(palavrasRDD))"
   ]
  },
  {
   "cell_type": "markdown",
   "metadata": {},
   "source": [
    "#### ** (1b) Plural **\n",
    "\n",
    "#### Vamos criar uma fun��o que transforma uma palavra no plural adicionando uma letra 's' ao final da string. Em seguida vamos utilizar a fun��o `map()` para aplicar a transforma��o em cada palavra do RDD.\n",
    "\n",
    "#### Em Python (e muitas outras linguagens) a concatena��o de strings � custosa. Uma alternativa melhor � criar uma nova string utilizando [`str.format()`](https://docs.python.org/2/library/string.html#format-string-syntax).\n",
    "\n",
    "#### Nota: a string entre os conjuntos de tr�s aspas representa a documenta��o da fun��o. Essa documenta��o � exibida com o comando `help()`. Vamos utilizar a padroniza��o de documenta��o sugerida para o Python, manteremos essa documenta��o em ingl�s."
   ]
  },
  {
   "cell_type": "code",
   "execution_count": null,
   "metadata": {
    "collapsed": true
   },
   "outputs": [],
   "source": [
    "# EXERCICIO\n",
    "def Plural(palavra):\n",
    "    \"\"\"Adds an 's' to `palavra`.\n",
    "\n",
    "    Args:\n",
    "        palavra (str): A string.\n",
    "\n",
    "    Returns:\n",
    "        str: A string with 's' added to it.\n",
    "    \"\"\"\n",
    "    return <COMPLETAR>\n",
    "\n",
    "print(Plural('gato'))"
   ]
  },
  {
   "cell_type": "code",
   "execution_count": null,
   "metadata": {
    "collapsed": true
   },
   "outputs": [],
   "source": [
    "help(Plural)"
   ]
  },
  {
   "cell_type": "code",
   "execution_count": null,
   "metadata": {
    "collapsed": true
   },
   "outputs": [],
   "source": [
    "assert Plural('rato')=='ratos', 'resultado incorreto!'\n",
    "print ('OK')"
   ]
  },
  {
   "cell_type": "markdown",
   "metadata": {},
   "source": [
    "#### ** (1c) Aplicando a fun��o ao RDD **\n",
    "#### Transforme cada palavra do nosso RDD em plural usando [map()](http://spark.apache.org/docs/latest/api/python/pyspark.html#pyspark.RDD.map) \n",
    "\n",
    "#### Em seguida, utilizaremos o comando  [collect()](http://spark.apache.org/docs/latest/api/python/pyspark.html#pyspark.RDD.collect) que retorna a RDD como uma lista do Python."
   ]
  },
  {
   "cell_type": "code",
   "execution_count": null,
   "metadata": {
    "collapsed": true
   },
   "outputs": [],
   "source": [
    "# EXERCICIO\n",
    "pluralRDD = palavrasRDD.<COMPLETAR>\n",
    "print (pluralRDD.collect())"
   ]
  },
  {
   "cell_type": "code",
   "execution_count": null,
   "metadata": {
    "collapsed": true
   },
   "outputs": [],
   "source": [
    "assert pluralRDD.collect()==['gatos','elefantes','ratos','ratos','gatos'], 'valores incorretos!'\n",
    "print ('OK')"
   ]
  },
  {
   "cell_type": "markdown",
   "metadata": {},
   "source": [
    "#### ** Nota: ** utilize o comando `collect()` apenas quando tiver certeza de que a lista caber� na mem�ria. Para gravar os resultados de volta em arquivo texto ou base de dados utilizaremos outro comando."
   ]
  },
  {
   "cell_type": "markdown",
   "metadata": {},
   "source": [
    "#### ** (1d) Utilizando uma fun��o `lambda` **\n",
    "#### Repita a cria��o de um RDD de plurais, por�m utilizando uma fun��o lambda."
   ]
  },
  {
   "cell_type": "code",
   "execution_count": null,
   "metadata": {
    "collapsed": true
   },
   "outputs": [],
   "source": [
    "# EXERCICIO\n",
    "pluralLambdaRDD = palavrasRDD.<COMPLETAR>\n",
    "print (pluralLambdaRDD.collect())"
   ]
  },
  {
   "cell_type": "code",
   "execution_count": null,
   "metadata": {
    "collapsed": true
   },
   "outputs": [],
   "source": [
    "assert pluralLambdaRDD.collect()==['gatos','elefantes','ratos','ratos','gatos'], 'valores incorretos!'\n",
    "print ('OK')"
   ]
  },
  {
   "cell_type": "markdown",
   "metadata": {},
   "source": [
    "#### ** (1e) Tamanho de cada palavra **\n",
    "#### Agora use `map()` e uma fun��o `lambda` para retornar o n�mero de caracteres em cada palavra. Utilize `collect()` para armazenar o resultado em forma de listas na vari�vel destino."
   ]
  },
  {
   "cell_type": "code",
   "execution_count": null,
   "metadata": {
    "collapsed": true
   },
   "outputs": [],
   "source": [
    "# EXERCICIO\n",
    "pluralTamanho = (pluralRDD\n",
    "                 <COMPLETAR>\n",
    "                 .collect()\n",
    "                 )\n",
    "print (pluralTamanho)"
   ]
  },
  {
   "cell_type": "code",
   "execution_count": null,
   "metadata": {
    "collapsed": true
   },
   "outputs": [],
   "source": [
    "assert pluralTamanho==[5,9,5,5,5], 'valores incorretos'\n",
    "print (\"OK\")"
   ]
  },
  {
   "cell_type": "markdown",
   "metadata": {},
   "source": [
    "#### ** (1f) RDDs de pares e tuplas **\n",
    "\n",
    "#### Para contar a frequ�ncia de cada palavra de maneira distribu�da, primeiro devemos atribuir um valor para cada palavra do RDD. Isso ir� gerar um base de dados (chave, valor). Desse modo podemos agrupar a base atrav�s da chave, calculando a soma dos valores atribu�dos. No nosso caso, vamos atribuir o valor `1` para cada palavra.\n",
    "\n",
    "#### Um RDD contendo a estrutura de tupla chave-valor `(k,v) ` � chamada de RDD de tuplas ou *pair RDD*.\n",
    "\n",
    "#### Vamos criar nosso RDD de pares usando a transforma��o  `map()` com uma fun��o `lambda()`."
   ]
  },
  {
   "cell_type": "code",
   "execution_count": null,
   "metadata": {
    "collapsed": true
   },
   "outputs": [],
   "source": [
    "# EXERCICIO\n",
    "palavraPar = palavrasRDD.<COMPLETAR>\n",
    "print (palavraPar.collect())"
   ]
  },
  {
   "cell_type": "code",
   "execution_count": null,
   "metadata": {
    "collapsed": true
   },
   "outputs": [],
   "source": [
    "assert palavraPar.collect() == [('gato',1),('elefante',1),('rato',1),('rato',1),('gato',1)], 'valores incorretos!'\n",
    "print (\"OK\")"
   ]
  },
  {
   "cell_type": "markdown",
   "metadata": {},
   "source": [
    "### ** Parte 2: Manipulando RDD de tuplas **"
   ]
  },
  {
   "cell_type": "markdown",
   "metadata": {},
   "source": [
    "#### Vamos manipular nossa RDD para contar as palavras do texto."
   ]
  },
  {
   "cell_type": "markdown",
   "metadata": {},
   "source": [
    "#### ** (2a) Fun��o `groupByKey()`  **\n",
    "\n",
    "#### A fun��o [groupByKey()](http://spark.apache.org/docs/latest/api/python/pyspark.html#pyspark.RDD.groupByKey) agrupa todos os valores de um RDD atrav�s da chave (primeiro elemento da tupla) agregando os valores em uma lista.\n",
    "\n",
    "#### Essa abordagem tem um ponto fraco pois:\n",
    "  + #### A opera��o requer que os dados distribu�dos sejam movidos em massa para que permane�am na parti��o correta.\n",
    "  + #### As listas podem se tornar muito grandes. Imagine contar todas as palavras do Wikipedia: termos comuns como \"a\", \"e\" formar�o uma lista enorme de valores que pode n�o caber na mem�ria do processo escravo.\n",
    " "
   ]
  },
  {
   "cell_type": "code",
   "execution_count": null,
   "metadata": {
    "collapsed": true
   },
   "outputs": [],
   "source": [
    "# EXERCICIO\n",
    "palavrasGrupo = palavraPar.groupByKey()\n",
    "for chave, valor in palavrasGrupo.collect():\n",
    "    valores = list(valor)\n",
    "    print(f'{chave}: {valores}')"
   ]
  },
  {
   "cell_type": "code",
   "execution_count": null,
   "metadata": {
    "collapsed": true
   },
   "outputs": [],
   "source": [
    "assert sorted(palavrasGrupo.mapValues(lambda x: list(x)).collect()) == [('elefante', [1]), ('gato',[1, 1]), ('rato',[1, 1])], 'Valores incorretos!'\n",
    "print (\"OK\")"
   ]
  },
  {
   "cell_type": "markdown",
   "metadata": {},
   "source": [
    "#### ** (2b) Calculando as contagens **\n",
    "#### Ap�s o  `groupByKey()` nossa RDD cont�m elementos compostos da palavra, como chave, e um iterador contendo todos os valores correspondentes aquela chave.\n",
    "#### Utilizando a transforma��o `map()` e a fun��o `sum()`, contrua um novo RDD que consiste de tuplas (chave, soma)."
   ]
  },
  {
   "cell_type": "code",
   "execution_count": null,
   "metadata": {
    "collapsed": true
   },
   "outputs": [],
   "source": [
    "# EXERCICIO\n",
    "contagemGroup = palavrasGrupo.<COMPLETAR>\n",
    "print (contagemGroup.collect())"
   ]
  },
  {
   "cell_type": "code",
   "execution_count": null,
   "metadata": {
    "collapsed": true
   },
   "outputs": [],
   "source": [
    "assert sorted(contagemGroup.collect())==[('elefante',1), ('gato',2), ('rato',2)], 'valores incorretos!'\n",
    "print (\"OK\")"
   ]
  },
  {
   "cell_type": "markdown",
   "metadata": {},
   "source": [
    "#### ** (2c) `reduceByKey` **\n",
    "#### Um comando mais interessante para a contagem � o  [reduceByKey()](http://spark.apache.org/docs/latest/api/python/pyspark.html#pyspark.RDD.reduceByKey) que cria uma nova RDD de tuplas.\n",
    "\n",
    "#### Essa transforma��o aplica a transforma��o `reduce()` vista na aula anterior para os valores de cada chave. Dessa forma, a fun��o de transforma��o pode ser aplicada em cada parti��o local para depois ser enviada para redistribui��o de parti��es, reduzindo o total de dados sendo movidos e n�o mantendo listas grandes na mem�ria."
   ]
  },
  {
   "cell_type": "code",
   "execution_count": null,
   "metadata": {
    "collapsed": true
   },
   "outputs": [],
   "source": [
    "# EXERCICIO\n",
    "contagem = palavraPar.<COMPLETAR>\n",
    "print( contagem.collect())"
   ]
  },
  {
   "cell_type": "code",
   "execution_count": null,
   "metadata": {
    "collapsed": true
   },
   "outputs": [],
   "source": [
    "assert sorted(contagem.collect())==[('elefante',1), ('gato',2), ('rato',2)], 'valores incorretos!'\n",
    "print (\"OK\")"
   ]
  },
  {
   "cell_type": "markdown",
   "metadata": {},
   "source": [
    "#### ** (2d) Agrupando os comandos **\n",
    "\n",
    "#### A forma mais usual de realizar essa tarefa, partindo do nosso RDD palavrasRDD, � encadear os comandos map e reduceByKey em uma linha de comando."
   ]
  },
  {
   "cell_type": "code",
   "execution_count": null,
   "metadata": {
    "collapsed": true
   },
   "outputs": [],
   "source": [
    "# EXERCICIO\n",
    "contagemFinal = (palavrasRDD\n",
    "                 <COMPLETAR>\n",
    "                 <COMPLETAR>                 \n",
    "                 )\n",
    "print (contagemFinal.collect())"
   ]
  },
  {
   "cell_type": "code",
   "execution_count": null,
   "metadata": {
    "collapsed": true
   },
   "outputs": [],
   "source": [
    "assert sorted(contagemFinal.collect())==[('elefante',1), ('gato',2), ('rato',2)], 'valores incorretos!'\n",
    "print (\"OK\")"
   ]
  },
  {
   "cell_type": "markdown",
   "metadata": {},
   "source": [
    "### ** Parte 3: Encontrando as palavras �nicas e calculando a m�dia de contagem **"
   ]
  },
  {
   "cell_type": "markdown",
   "metadata": {},
   "source": [
    "#### ** (3a) Palavras �nicas **\n",
    "\n",
    "#### Calcule a quantidade de palavras �nicas do RDD. Utilize o mesmo pipeline anterior por�m substituindo `.collect()` por outro m�todo do API da RDD."
   ]
  },
  {
   "cell_type": "code",
   "execution_count": null,
   "metadata": {
    "collapsed": true
   },
   "outputs": [],
   "source": [
    "# EXERCICIO\n",
    "palavrasUnicas = (contagemFinal\n",
    "                  <COMPLETAR>\n",
    "                 )\n",
    "print (palavrasUnicas)"
   ]
  },
  {
   "cell_type": "code",
   "execution_count": null,
   "metadata": {
    "collapsed": true
   },
   "outputs": [],
   "source": [
    "assert palavrasUnicas==3, 'valor incorreto!'\n",
    "print (\"OK\")"
   ]
  },
  {
   "cell_type": "markdown",
   "metadata": {},
   "source": [
    "#### ** (3b) Calculando a M�dia de contagem de palavras **\n",
    "\n",
    "#### Encontre a m�dia de frequ�ncia das palavras utilizando o RDD `contagem`.\n",
    "\n",
    "#### Note que a fun��o do comando `reduce()` � aplicada em cada tupla do RDD. Para realizar a soma das contagens, primeiro � necess�rio mapear o RDD para um RDD contendo apenas os valores das frequ�ncias (sem as chaves)."
   ]
  },
  {
   "cell_type": "code",
   "execution_count": null,
   "metadata": {
    "collapsed": true
   },
   "outputs": [],
   "source": [
    "# EXERCICIO\n",
    "# add � equivalente a lambda x,y: x+y\n",
    "from operator import add\n",
    "total = (contagemFinal\n",
    "         <COMPLETAR>\n",
    "         <COMPLETAR>\n",
    "         )\n",
    "media = total / float(palavrasUnicas)\n",
    "print (total)\n",
    "print (round(media, 2))"
   ]
  },
  {
   "cell_type": "code",
   "execution_count": null,
   "metadata": {
    "collapsed": true
   },
   "outputs": [],
   "source": [
    "assert round(media, 2)==1.67, 'valores incorretos!'\n",
    "print (\"OK\")"
   ]
  },
  {
   "cell_type": "markdown",
   "metadata": {},
   "source": [
    "### ** Parte 4: Aplicar nosso algoritmo em um arquivo **"
   ]
  },
  {
   "cell_type": "markdown",
   "metadata": {},
   "source": [
    "#### ** (4a) Fun��o `contaPalavras` **\n",
    "\n",
    "#### Para podermos aplicar nosso algoritmo gen�ricamente em diversos RDDs, vamos primeiro criar uma fun��o para aplic�-lo em qualquer fonte de dados. Essa fun��o recebe de entrada um RDD contendo uma lista de chaves (palavras) e retorna um RDD de tuplas com as chaves e a contagem delas nessa RDD"
   ]
  },
  {
   "cell_type": "code",
   "execution_count": null,
   "metadata": {
    "collapsed": true
   },
   "outputs": [],
   "source": [
    "# EXERCICIO\n",
    "def contaPalavras(chavesRDD):\n",
    "    \"\"\"Creates a pair RDD with word counts from an RDD of words.\n",
    "\n",
    "    Args:\n",
    "        chavesRDD (RDD of str): An RDD consisting of words.\n",
    "\n",
    "    Returns:\n",
    "        RDD of (str, int): An RDD consisting of (word, count) tuples.\n",
    "    \"\"\"\n",
    "    return (chavesRDD\n",
    "            <COMPLETAR>\n",
    "            <COMPLETAR>\n",
    "           )\n",
    "\n",
    "print (contaPalavras(palavrasRDD).collect())"
   ]
  },
  {
   "cell_type": "code",
   "execution_count": null,
   "metadata": {
    "collapsed": true
   },
   "outputs": [],
   "source": [
    "assert sorted(contaPalavras(palavrasRDD).collect())==[('elefante',1), ('gato',2), ('rato',2)], 'valores incorretos!'\n",
    "print (\"OK\")"
   ]
  },
  {
   "cell_type": "markdown",
   "metadata": {},
   "source": [
    "#### ** (4b) Normalizando o texto **\n",
    "\n",
    "#### Quando trabalhamos com dados reais, geralmente precisamos padronizar os atributos de tal forma que diferen�as sutis por conta de erro de medi��o ou diferen�a de normatiza��o, sejam desconsideradas. Para o pr�ximo passo vamos padronizar o texto para:\n",
    "  + #### Padronizar a capitaliza��o das palavras (tudo mai�sculo ou tudo min�sculo).\n",
    "  + #### Remover pontua��o.\n",
    "  + #### Remover espa�os no in�cio e no final da palavra.\n",
    " \n",
    "#### Crie uma fun��o `removerPontuacao` que converte todo o texto para min�scula, remove qualquer pontua��o e espa�os em branco no in�cio ou final da palavra. Para isso, utilize a biblioteca [re](https://docs.python.org/2/library/re.html) para remover todo texto que n�o seja letra, n�mero ou espa�o, encadeando com as fun��es de string para remover espa�os em branco e converter para min�scula (veja [Strings](https://docs.python.org/2/library/stdtypes.html?highlight=str.lower#string-methods))."
   ]
  },
  {
   "cell_type": "code",
   "execution_count": null,
   "metadata": {
    "collapsed": true
   },
   "outputs": [],
   "source": [
    "# EXERCICIO\n",
    "import re\n",
    "def removerPontuacao(texto):\n",
    "    \"\"\"Removes punctuation, changes to lower case, and strips leading and trailing spaces.\n",
    "\n",
    "    Note:\n",
    "        Only spaces, letters, and numbers should be retained.  Other characters should should be\n",
    "        eliminated (e.g. it's becomes its).  Leading and trailing spaces should be removed after\n",
    "        punctuation is removed.\n",
    "\n",
    "    Args:\n",
    "        texto (str): A string.\n",
    "\n",
    "    Returns:\n",
    "        str: The cleaned up string.\n",
    "    \"\"\"\n",
    "    return re.sub(r'[^A-Za-z0-9 ]', '', texto).strip().lower()\n",
    "print (removerPontuacao('Ola, quem esta ai??!'))\n",
    "print (removerPontuacao(' Sem espaco e_sublinhado!'))"
   ]
  },
  {
   "cell_type": "code",
   "execution_count": null,
   "metadata": {
    "collapsed": true
   },
   "outputs": [],
   "source": [
    "assert removerPontuacao(' O uso de virgulas, embora permitido, nao deve contar. ')=='o uso de virgulas embora permitido nao deve contar', 'string incorreta!'\n",
    "print (\"OK\")"
   ]
  },
  {
   "cell_type": "markdown",
   "metadata": {},
   "source": [
    "#### ** (4c) Carregando arquivo texto  **\n",
    "\n",
    "#### Para a pr�xima parte vamos utilizar o livro [Trabalhos completos de William Shakespeare](http://www.gutenberg.org/ebooks/100) do [Projeto Gutenberg](http://www.gutenberg.org/wiki/Main_Page). \n",
    "\n",
    "#### Para converter um texto em uma RDD, utilizamos a fun��o `textFile()` que recebe como entrada o nome do arquivo texto que queremos utilizar e o n�mero de parti��es.\n",
    "\n",
    "#### O nome do arquivo texto pode se referir a um arquivo local ou uma URI de arquivo distribu�do (ex.: hdfs://).\n",
    "\n",
    "#### Vamos tamb�m aplicar a fun��o `removerPontuacao()` para normalizar o texto e verificar as 15 primeiras linhas com o comando `take()`."
   ]
  },
  {
   "cell_type": "code",
   "execution_count": null,
   "metadata": {
    "collapsed": true
   },
   "outputs": [],
   "source": [
    "# Apenas execute a c�lula\n",
    "import os.path\n",
    "\n",
    "arquivo = os.path.join('Data', 'pg100.txt') \n",
    "\n",
    "# l� o arquivo com textFile e aplica a fun��o removerPontuacao        \n",
    "shakesRDD = (sc\n",
    "             .textFile(arquivo, 8)\n",
    "             .map(removerPontuacao)\n",
    "             )\n",
    "\n",
    "# zipWithIndex gera tuplas (conteudo, indice) onde indice � a posi��o do conteudo na lista sequencial\n",
    "# Ex.: sc.parallelize(['gato','cachorro','boi']).zipWithIndex() ==> [('gato',0), ('cachorro',1), ('boi',2)]\n",
    "# sep.join() junta as strings de uma lista atrav�s do separador sep. Ex.: ','.join(['a','b','c']) ==> 'a,b,c'\n",
    "print ('\\n'.join(shakesRDD\n",
    "                .zipWithIndex()\n",
    "                .map(lambda linha: '{0}: {1}'.format(linha[0],linha[1]))\n",
    "                .take(15)\n",
    "               ))"
   ]
  },
  {
   "cell_type": "markdown",
   "metadata": {},
   "source": [
    "#### ** (4d) Extraindo as palavras **\n",
    "#### Antes de poder usar nossa fun��o  `contaPalavras()`, temos ainda que trabalhar em cima da nossa RDD:\n",
    "  + #### Precisamos gerar listas de palavras ao inv�s de listas de senten�as.\n",
    "  + #### Eliminar linhas vazias.\n",
    " \n",
    "#### As strings em Python tem o m�todo [split()](https://docs.python.org/2/library/string.html#string.split) que faz a separa��o de uma string por separador. No nosso caso, queremos separar as strings por espa�o. \n",
    "\n",
    "#### Utilize a fun��o `map()` para gerar um novo RDD como uma lista de palavras."
   ]
  },
  {
   "cell_type": "code",
   "execution_count": null,
   "metadata": {
    "collapsed": true
   },
   "outputs": [],
   "source": [
    "# EXERCICIO\n",
    "shakesPalavrasRDD = shakesRDD.<COMPLETAR>\n",
    "total = shakesPalavrasRDD.count()\n",
    "print (shakesPalavrasRDD.take(5))\n",
    "print (total)"
   ]
  },
  {
   "cell_type": "markdown",
   "metadata": {},
   "source": [
    "#### Conforme deve ter percebido, o uso da fun��o `map()` gera uma lista para cada linha, criando um RDD contendo uma lista de listas.\n",
    "\n",
    "#### Para resolver esse problema, o Spark possui uma fun��o an�loga chamada `flatMap()` que aplica a transforma��o do `map()`, por�m *achatando* o retorno em forma de lista para uma lista unidimensional."
   ]
  },
  {
   "cell_type": "code",
   "execution_count": null,
   "metadata": {
    "collapsed": true
   },
   "outputs": [],
   "source": [
    "# EXERCICIO\n",
    "shakesPalavrasRDD = shakesRDD.flatMap(lambda x: x.split())\n",
    "total = shakesPalavrasRDD.count()\n",
    "print (shakesPalavrasRDD.take(5))\n",
    "print (total)"
   ]
  },
  {
   "cell_type": "code",
   "execution_count": null,
   "metadata": {
    "collapsed": true
   },
   "outputs": [],
   "source": [
    "assert total==959359, \"valor incorreto de palavras!\"\n",
    "print (\"OK\")\n",
    "assert shakesPalavrasRDD.take(5)==['project', 'gutenbergs', 'the', 'complete', 'works'],'lista incorreta de palavras'\n",
    "print (\"OK\")"
   ]
  },
  {
   "cell_type": "markdown",
   "metadata": {},
   "source": [
    "#### Reparem que o `flatMap` j� eliminou as entradas vazias."
   ]
  },
  {
   "cell_type": "markdown",
   "metadata": {},
   "source": [
    "#### ** (4f) Contagem de palavras **\n",
    "#### Agora que nossa RDD cont�m uma lista de palavras, podemos aplicar nossa fun��o `contaPalavras()`.\n",
    "\n",
    "#### Aplique a fun��o em nossa RDD e utilize a fun��o `takeOrdered` para imprimir as 15 palavras mais frequentes.\n",
    "\n",
    "#### `takeOrdered()` pode receber um segundo par�metro que instrui o Spark em como ordenar os elementos. Ex.:\n",
    "\n",
    "#### `takeOrdered(15, key=lambda x: -x)`: ordem decrescente dos valores de x"
   ]
  },
  {
   "cell_type": "code",
   "execution_count": null,
   "metadata": {
    "collapsed": true
   },
   "outputs": [],
   "source": [
    "# EXERCICIO\n",
    "top15 = <COMPLETAR>\n",
    "print ('\\n'.join(map(lambda x: f'{x[0]}: {x[1]}', top15)))"
   ]
  },
  {
   "cell_type": "code",
   "execution_count": null,
   "metadata": {
    "collapsed": true
   },
   "outputs": [],
   "source": [
    "assert top15 == [('the', 29996), ('and', 28353), ('i', 21860), ('to', 20885), ('of', 18811), ('a', 15992), ('you', 14439), ('my', 13191), ('in', 12027), ('that', 11782), ('is', 9711), ('not', 9068), ('with', 8521), ('me', 8271), ('for', 8184)],'valores incorretos!'\n",
    "print (\"OK\")"
   ]
  },
  {
   "cell_type": "markdown",
   "metadata": {},
   "source": [
    "### ** Parte 5: Similaridade entre Objetos **"
   ]
  },
  {
   "cell_type": "markdown",
   "metadata": {},
   "source": [
    "### Nessa parte do laborat�rio vamos aprender a calcular a dist�ncia entre atributos num�ricos, categ�ricos e textuais."
   ]
  },
  {
   "cell_type": "markdown",
   "metadata": {},
   "source": [
    "#### ** (5a) Vetores no espa�o Euclidiano **\n",
    "\n",
    "#### Quando nossos objetos s�o representados no espa�o Euclidiano, medimos a similaridade entre eles atrav�s da *p-Norma* definida por:\n",
    "\n",
    "#### $$d(x,y,p) = (\\sum_{i=1}^{n}{|x_i - y_i|^p})^{1/p}$$\n",
    "\n",
    "#### As normas mais utilizadas s�o $p=1,2,\\infty$ que se reduzem em dist�ncia absoluta, Euclidiana e m�xima dist�ncia:\n",
    "\n",
    "#### $$d(x,y,1) = \\sum_{i=1}^{n}{|x_i - y_i|}$$\n",
    "\n",
    "#### $$d(x,y,2) = (\\sum_{i=1}^{n}{|x_i - y_i|^2})^{1/2}$$\n",
    "\n",
    "#### $$d(x,y,\\infty) = \\max(|x_1 - y_1|,|x_2 - y_2|, ..., |x_n - y_n|)$$"
   ]
  },
  {
   "cell_type": "code",
   "execution_count": null,
   "metadata": {
    "collapsed": true
   },
   "outputs": [],
   "source": [
    "import numpy as np\n",
    "\n",
    "# Vamos criar uma fun��o pNorm que recebe como par�metro p e retorna uma fun��o que calcula a pNorma\n",
    "def pNorm(p):\n",
    "    \"\"\"Generates a function to calculate the p-Norm between two points.\n",
    "\n",
    "    Args:\n",
    "        p (int): The integer p.\n",
    "\n",
    "    Returns:\n",
    "        Dist: A function that calculates the p-Norm.\n",
    "    \"\"\"\n",
    "\n",
    "    def Dist(x,y):\n",
    "        return np.power(np.power(np.abs(x-y),p).sum(),1/float(p))\n",
    "    return Dist"
   ]
  },
  {
   "cell_type": "code",
   "execution_count": null,
   "metadata": {
    "collapsed": true
   },
   "outputs": [],
   "source": [
    "# Vamos criar uma RDD com valores num�ricos\n",
    "np.random.seed(42)\n",
    "numPointsRDD = sc.parallelize(enumerate(np.random.random(size=(10,100))))"
   ]
  },
  {
   "cell_type": "code",
   "execution_count": null,
   "metadata": {
    "collapsed": true
   },
   "outputs": [],
   "source": [
    "# EXERCICIO\n",
    "# Procure dentre os comandos do PySpark, um que consiga fazer o produto cartesiano da base com ela mesma\n",
    "cartPointsRDD = numPointsRDD.<COMPLETAR>\n",
    "\n",
    "# Aplique um mapa para transformar nossa RDD em uma RDD de tuplas ((id1,id2), (vetor1,vetor2))\n",
    "# DICA: primeiro utilize o comando take(1) e imprima o resultado para verificar o formato atual da RDD\n",
    "cartPointsParesRDD = cartPointsRDD.<COMPLETAR>\n",
    "\n",
    "\n",
    "# Aplique um mapa para calcular a Dist�ncia Euclidiana entre os pares\n",
    "Euclid = pNorm(2)\n",
    "distRDD = cartPointsParesRDD.<COMPLETAR>\n",
    "\n",
    "# Encontre a dist�ncia m�xima, m�nima e m�dia, aplicando um mapa que transforma (chave,valor) --> valor\n",
    "# e utilizando os comandos internos do pyspark para o c�lculo da min, max, mean\n",
    "statRDD = distRDD.<COMPLETAR>\n",
    "\n",
    "minv, maxv, meanv = statRDD.<COMPLETAR>, statRDD.<COMPLETAR>, statRDD.<COMPLETAR>\n",
    "print (minv, maxv, meanv)"
   ]
  },
  {
   "cell_type": "code",
   "execution_count": null,
   "metadata": {
    "collapsed": true
   },
   "outputs": [],
   "source": [
    "assert (minv.round(2), maxv.round(2), meanv.round(2))==(0.0, 4.71, 3.75), 'Valores incorretos'\n",
    "print (\"OK\")"
   ]
  },
  {
   "cell_type": "markdown",
   "metadata": {},
   "source": [
    "#### ** (5b) Valores Categ�ricos **\n",
    "\n",
    "#### Quando nossos objetos s�o representados por atributos categ�ricos, eles n�o possuem uma similaridade espacial. Para calcularmos a similaridade entre eles podemos primeiro transformar nosso vetor de atrbutos em um vetor bin�rio indicando, para cada poss�vel valor de cada atributo, se ele possui esse atributo ou n�o.\n",
    "\n",
    "#### Com o vetor bin�rio podemos utilizar a dist�ncia de Hamming  definida por:\n",
    "\n",
    "#### $$ H(x,y) = \\sum_{i=1}^{n}{x_i != y_i} $$\n",
    "\n",
    "#### Tamb�m � poss�vel definir a dist�ncia de Jaccard como:\n",
    "\n",
    "#### $$ J(x,y) = \\frac{\\sum_{i=1}^{n}{x_i == y_i} }{\\sum_{i=1}^{n}{\\max(x_i, y_i}) } $$"
   ]
  },
  {
   "cell_type": "code",
   "execution_count": null,
   "metadata": {
    "collapsed": true
   },
   "outputs": [],
   "source": [
    "# Vamos criar uma fun��o para calcular a dist�ncia de Hamming\n",
    "def Hamming(x,y):\n",
    "    \"\"\"Calculates the Hamming distance between two binary vectors.\n",
    "\n",
    "    Args:\n",
    "        x, y (np.array): Array of binary integers x and y.\n",
    "\n",
    "    Returns:\n",
    "        H (int): The Hamming distance between x and y.\n",
    "    \"\"\"\n",
    "    return (x!=y).sum()\n",
    "\n",
    "# Vamos criar uma fun��o para calcular a dist�ncia de Jaccard\n",
    "def Jaccard(x,y):\n",
    "    \"\"\"Calculates the Jaccard distance between two binary vectors.\n",
    "\n",
    "    Args:\n",
    "        x, y (np.array): Array of binary integers x and y.\n",
    "\n",
    "    Returns:\n",
    "        J (int): The Jaccard distance between x and y.\n",
    "    \"\"\"\n",
    "    return (x==y).sum()/float( np.maximum(x,y).sum() )"
   ]
  },
  {
   "cell_type": "code",
   "execution_count": null,
   "metadata": {
    "collapsed": true
   },
   "outputs": [],
   "source": [
    "# Vamos criar uma RDD com valores categ�ricos\n",
    "catPointsRDD = sc.parallelize(enumerate([['alto', 'caro', 'azul'],\n",
    "                             ['medio', 'caro', 'verde'],\n",
    "                             ['alto', 'barato', 'azul'],\n",
    "                             ['medio', 'caro', 'vermelho'],\n",
    "                             ['baixo', 'barato', 'verde'],\n",
    "                            ]))"
   ]
  },
  {
   "cell_type": "code",
   "execution_count": null,
   "metadata": {
    "collapsed": true
   },
   "outputs": [],
   "source": [
    "# EXERCICIO\n",
    "# Crie um RDD de chaves �nicas utilizando flatMap\n",
    "chavesRDD = (catPointsRDD\n",
    "             .<COMPLETAR>\n",
    "             .<COMPLETAR>\n",
    "             .<COMPLETAR>\n",
    "             )\n",
    "\n",
    "chaves = dict((v,k) for k,v in chavesRDD.collect())\n",
    "nchaves = len(chaves)\n",
    "print (chaves, nchaves)"
   ]
  },
  {
   "cell_type": "code",
   "execution_count": null,
   "metadata": {
    "collapsed": true
   },
   "outputs": [],
   "source": [
    "assert chaves=={'alto': 2, 'caro': 0, 'baixo': 4, 'verde': 1, 'azul': 2, 'medio': 3, 'barato': 4, 'vermelho': 3}, 'valores incorretos!'\n",
    "print (\"OK\")\n",
    "\n",
    "assert nchaves==8, 'n�mero de chaves incorreta'\n",
    "print (\"OK\")"
   ]
  },
  {
   "cell_type": "code",
   "execution_count": null,
   "metadata": {
    "collapsed": true
   },
   "outputs": [],
   "source": [
    "def CreateNP(atributos,chaves):  \n",
    "    \"\"\"Binarize the categorical vector using a dictionary of keys.\n",
    "\n",
    "    Args:\n",
    "        atributos (list): List of attributes of a given object.\n",
    "        chaves (dict): dictionary with the relation attribute -> index\n",
    "\n",
    "    Returns:\n",
    "        array (np.array): Binary array of attributes.\n",
    "    \"\"\"\n",
    "    \n",
    "    array = np.zeros(len(chaves))\n",
    "    for atr in atributos:\n",
    "        array[ chaves[atr] ] = 1\n",
    "    return array\n",
    "\n",
    "# Converte o RDD para o formato bin�rio, utilizando o dict chaves\n",
    "binRDD = catPointsRDD.map(lambda rec: (rec[0],CreateNP(rec[1], chaves)))\n",
    "binRDD.collect()"
   ]
  },
  {
   "cell_type": "code",
   "execution_count": null,
   "metadata": {
    "collapsed": true
   },
   "outputs": [],
   "source": [
    "# EXERCICIO\n",
    "# Procure dentre os comandos do PySpark, um que consiga fazer o produto cartesiano da base com ela mesma\n",
    "cartBinRDD = binRDD.<COMPLETAR>\n",
    "\n",
    "# Aplique um mapa para transformar nossa RDD em uma RDD de tuplas ((id1,id2), (vetor1,vetor2))\n",
    "# DICA: primeiro utilize o comando take(1) e imprima o resultado para verificar o formato atual da RDD\n",
    "cartBinParesRDD = cartBinRDD.<COMPLETAR>\n",
    "\n",
    "\n",
    "# Aplique um mapa para calcular a Dist�ncia de Hamming e Jaccard entre os pares\n",
    "hamRDD = cartBinParesRDD.<COMPLETAR>\n",
    "jacRDD = cartBinParesRDD.<COMPLETAR>\n",
    "\n",
    "# Encontre a dist�ncia m�xima, m�nima e m�dia, aplicando um mapa que transforma (chave,valor) --> valor\n",
    "# e utilizando os comandos internos do pyspark para o c�lculo da min, max, mean\n",
    "statHRDD = hamRDD.<COMPLETAR>\n",
    "statJRDD = jacRDD.<COMPLETAR>\n",
    "\n",
    "Hmin, Hmax, Hmean = statHRDD.<COMPLETAR>, statHRDD.<COMPLETAR>, statHRDD.<COMPLETAR>\n",
    "Jmin, Jmax, Jmean = statJRDD.<COMPLETAR>, statJRDD.<COMPLETAR>, statJRDD.<COMPLETAR>\n",
    "\n",
    "print (\"\\t\\tMin\\tMax\\tMean\")\n",
    "print (\"Hamming:\\t{:.2f}\\t{:.2f}\\t{:.2f}\".format(Hmin, Hmax, Hmean ))\n",
    "print (\"Jaccard:\\t{:.2f}\\t{:.2f}\\t{:.2f}\".format( Jmin, Jmax, Jmean ))"
   ]
  },
  {
   "cell_type": "code",
   "execution_count": null,
   "metadata": {
    "collapsed": true
   },
   "outputs": [],
   "source": [
    "assert (Hmin.round(2), Hmax.round(2), Hmean.round(2)) == (0.00,5.00,2.40), 'valores incorretos'\n",
    "print (\"OK\")\n",
    "assert (Jmin.round(2), Jmax.round(2), Jmean.round(2)) == (0.60,4.00,1.90), 'valores incorretos'\n",
    "print (\"OK\")"
   ]
  }
 ],
 "metadata": {
  "kernelspec": {
   "display_name": "Python 3",
   "language": "python",
   "name": "python3"
  },
  "language_info": {
   "codemirror_mode": {
    "name": "ipython",
    "version": 3
   },
   "file_extension": ".py",
   "mimetype": "text/x-python",
   "name": "python",
   "nbconvert_exporter": "python",
   "pygments_lexer": "ipython3",
   "version": "3.6.3"
  }
 },
 "nbformat": 4,
 "nbformat_minor": 1
}